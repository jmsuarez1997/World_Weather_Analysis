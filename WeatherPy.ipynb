{
 "cells": [
  {
   "cell_type": "code",
   "execution_count": 2,
   "id": "b68836a6",
   "metadata": {},
   "outputs": [],
   "source": [
    "# Import the dependencies.\n",
    "import pandas as pd\n",
    "import matplotlib.pyplot as plt\n",
    "import numpy as np\n",
    "from citipy import citipy\n",
    "from config import weather_api_key\n",
    "# Import the time library and the datetime module from the datetime library \n",
    "import time\n",
    "from datetime import datetime"
   ]
  },
  {
   "cell_type": "code",
   "execution_count": 3,
   "id": "2b854848",
   "metadata": {},
   "outputs": [
    {
     "data": {
      "text/plain": [
       "<zip at 0x23c79e23a48>"
      ]
     },
     "execution_count": 3,
     "metadata": {},
     "output_type": "execute_result"
    }
   ],
   "source": [
    "# Create a set of random latitude and longitude combinations.\n",
    "lats = np.random.uniform(low=-90.000, high=90.000, size=1500)\n",
    "lngs = np.random.uniform(low=-180.000, high=180.000, size=1500)\n",
    "lat_lngs = zip(lats, lngs)\n",
    "lat_lngs"
   ]
  },
  {
   "cell_type": "code",
   "execution_count": 4,
   "id": "e9799b67",
   "metadata": {},
   "outputs": [],
   "source": [
    "# Add the latitudes and longitudes to a list.\n",
    "coordinates = list(lat_lngs)"
   ]
  },
  {
   "cell_type": "code",
   "execution_count": 5,
   "id": "56997c08",
   "metadata": {},
   "outputs": [
    {
     "data": {
      "text/plain": [
       "576"
      ]
     },
     "execution_count": 5,
     "metadata": {},
     "output_type": "execute_result"
    }
   ],
   "source": [
    "# Create a list for holding the cities.\n",
    "cities = []\n",
    "# Identify the nearest city for each latitude and longitude combination.\n",
    "for coordinate in coordinates:\n",
    "    city = citipy.nearest_city(coordinate[0], coordinate[1]).city_name\n",
    "\n",
    "    # If the city is unique, then we will add it to the cities list.\n",
    "    if city not in cities:\n",
    "        cities.append(city)\n",
    "# Print the city count to confirm sufficient count.\n",
    "len(cities)"
   ]
  },
  {
   "cell_type": "code",
   "execution_count": 6,
   "id": "51fe37b0",
   "metadata": {},
   "outputs": [],
   "source": [
    "# Starting URL for Weather Map API Call.\n",
    "url = \"http://api.openweathermap.org/data/2.5/weather?units=Imperial&APPID=\" + weather_api_key"
   ]
  },
  {
   "cell_type": "code",
   "execution_count": 7,
   "id": "8c271ccf",
   "metadata": {},
   "outputs": [
    {
     "name": "stdout",
     "output_type": "stream",
     "text": [
      "Beginning Data Retrieval     \n",
      "-----------------------------\n"
     ]
    }
   ],
   "source": [
    "# Create an empty list to hold the weather data.\n",
    "city_data = []\n",
    "# Print the beginning of the logging.\n",
    "print(\"Beginning Data Retrieval     \")\n",
    "print(\"-----------------------------\")\n",
    "\n",
    "# Create counters.\n",
    "record_count = 1\n",
    "set_count = 1"
   ]
  },
  {
   "cell_type": "code",
   "execution_count": 8,
   "id": "ce7c4968",
   "metadata": {},
   "outputs": [],
   "source": [
    "# Loop through all the cities in our list.\n",
    "# for i in range(len(cities)):\n",
    "\n",
    "    # Group cities in sets of 50 for logging purposes.\n",
    "#     if (i % 50 == 0 and i >= 50):\n",
    "#         set_count += 1\n",
    "#         record_count = 1\n",
    "#         time.sleep(60)\n",
    "\n",
    "    # Create endpoint URL with each city.\n",
    "#     city_url = url + \"&q=\" + cities[i]"
   ]
  },
  {
   "cell_type": "code",
   "execution_count": null,
   "id": "1d59d402",
   "metadata": {},
   "outputs": [
    {
     "name": "stdout",
     "output_type": "stream",
     "text": [
      "Beginning Data Retrieval     \n",
      "-----------------------------\n",
      "Processing Record 1 of Set 1 | ushuaia\n",
      "City not found. Skipping...\n",
      "Processing Record 2 of Set 1 | belushya guba\n",
      "City not found. Skipping...\n",
      "Processing Record 3 of Set 1 | yellowknife\n",
      "City not found. Skipping...\n",
      "Processing Record 4 of Set 1 | nikolskoye\n",
      "City not found. Skipping...\n",
      "Processing Record 5 of Set 1 | rikitea\n",
      "City not found. Skipping...\n",
      "Processing Record 6 of Set 1 | melissourgoi\n",
      "City not found. Skipping...\n",
      "Processing Record 7 of Set 1 | attawapiskat\n",
      "City not found. Skipping...\n",
      "Processing Record 8 of Set 1 | hilo\n",
      "City not found. Skipping...\n",
      "Processing Record 9 of Set 1 | busselton\n",
      "City not found. Skipping...\n",
      "Processing Record 10 of Set 1 | roebourne\n",
      "City not found. Skipping...\n",
      "Processing Record 11 of Set 1 | kiruna\n",
      "City not found. Skipping...\n",
      "Processing Record 12 of Set 1 | hermanus\n",
      "City not found. Skipping...\n",
      "Processing Record 13 of Set 1 | tay ninh\n",
      "City not found. Skipping...\n",
      "Processing Record 14 of Set 1 | itarema\n",
      "City not found. Skipping...\n",
      "Processing Record 15 of Set 1 | barentsburg\n",
      "City not found. Skipping...\n",
      "Processing Record 16 of Set 1 | albany\n",
      "City not found. Skipping...\n",
      "Processing Record 17 of Set 1 | cape town\n",
      "City not found. Skipping...\n",
      "Processing Record 18 of Set 1 | sakakah\n",
      "City not found. Skipping...\n",
      "Processing Record 19 of Set 1 | tasiilaq\n",
      "City not found. Skipping...\n",
      "Processing Record 20 of Set 1 | bubaque\n",
      "City not found. Skipping...\n",
      "Processing Record 21 of Set 1 | luganville\n",
      "City not found. Skipping...\n",
      "Processing Record 22 of Set 1 | georgetown\n",
      "City not found. Skipping...\n",
      "Processing Record 23 of Set 1 | tombouctou\n",
      "City not found. Skipping...\n",
      "Processing Record 24 of Set 1 | cabo san lucas\n",
      "City not found. Skipping...\n",
      "Processing Record 25 of Set 1 | kampong thum\n",
      "City not found. Skipping...\n",
      "Processing Record 26 of Set 1 | port-gentil\n",
      "City not found. Skipping...\n",
      "Processing Record 27 of Set 1 | atuona\n",
      "City not found. Skipping...\n",
      "Processing Record 28 of Set 1 | musetesti\n",
      "City not found. Skipping...\n",
      "Processing Record 29 of Set 1 | jashpurnagar\n",
      "City not found. Skipping...\n",
      "Processing Record 30 of Set 1 | butaritari\n",
      "City not found. Skipping...\n",
      "Processing Record 31 of Set 1 | victoria\n",
      "City not found. Skipping...\n",
      "Processing Record 32 of Set 1 | tuktoyaktuk\n",
      "City not found. Skipping...\n",
      "Processing Record 33 of Set 1 | provideniya\n",
      "City not found. Skipping...\n",
      "Processing Record 34 of Set 1 | tahe\n",
      "City not found. Skipping...\n",
      "Processing Record 35 of Set 1 | bethel\n",
      "City not found. Skipping...\n",
      "Processing Record 36 of Set 1 | lorengau\n",
      "City not found. Skipping...\n",
      "Processing Record 37 of Set 1 | mar del plata\n",
      "City not found. Skipping...\n",
      "Processing Record 38 of Set 1 | touros\n",
      "City not found. Skipping...\n",
      "Processing Record 39 of Set 1 | chokurdakh\n",
      "City not found. Skipping...\n",
      "Processing Record 40 of Set 1 | juxian\n",
      "City not found. Skipping...\n",
      "Processing Record 41 of Set 1 | ayan\n",
      "City not found. Skipping...\n",
      "Processing Record 42 of Set 1 | bluff\n",
      "City not found. Skipping...\n",
      "Processing Record 43 of Set 1 | illoqqortoormiut\n",
      "City not found. Skipping...\n",
      "Processing Record 44 of Set 1 | san isidro\n",
      "City not found. Skipping...\n",
      "Processing Record 45 of Set 1 | lavrentiya\n",
      "City not found. Skipping...\n",
      "Processing Record 46 of Set 1 | portland\n",
      "City not found. Skipping...\n",
      "Processing Record 47 of Set 1 | isangel\n",
      "City not found. Skipping...\n",
      "Processing Record 48 of Set 1 | thompson\n",
      "City not found. Skipping...\n",
      "Processing Record 49 of Set 1 | kostomuksha\n",
      "City not found. Skipping...\n",
      "Processing Record 50 of Set 1 | haines junction\n",
      "City not found. Skipping...\n"
     ]
    }
   ],
   "source": [
    "# Create an empty list to hold the weather data.\n",
    "city_data = []\n",
    "# Print the beginning of the logging.\n",
    "print(\"Beginning Data Retrieval     \")\n",
    "print(\"-----------------------------\")\n",
    "\n",
    "# Create counters.\n",
    "record_count = 1\n",
    "set_count = 1\n",
    "\n",
    "\n",
    "# Loop through all the cities in the list.\n",
    "for i, city in enumerate(cities):\n",
    "\n",
    "    # Group cities in sets of 50 for logging purposes.\n",
    "    if (i % 50 == 0 and i >= 50):\n",
    "        set_count += 1\n",
    "        record_count = 1\n",
    "        time.sleep(60)\n",
    "\n",
    "    # Create endpoint URL with each city.\n",
    "    city_url = url + \"&q=\" + city.replace(\" \",\"+\")\n",
    "\n",
    "    # Log the URL, record, and set numbers and the city.\n",
    "    print(f\"Processing Record {record_count} of Set {set_count} | {city}\")\n",
    "    # Add 1 to the record count.\n",
    "    record_count += 1\n",
    "    # Run an API request for each of the cities.\n",
    "    try:\n",
    "        # Parse the JSON and retrieve data.\n",
    "        city_weather = requests.get(city_url).json()\n",
    "        # Parse out the needed data.\n",
    "        city_lat = city_weather[\"coord\"][\"lat\"]\n",
    "        city_lng = city_weather[\"coord\"][\"lon\"]\n",
    "        city_max_temp = city_weather[\"main\"][\"temp_max\"]\n",
    "        city_humidity = city_weather[\"main\"][\"humidity\"]\n",
    "        city_clouds = city_weather[\"clouds\"][\"all\"]\n",
    "        city_wind = city_weather[\"wind\"][\"speed\"]\n",
    "        city_country = city_weather[\"sys\"][\"country\"]\n",
    "        # Convert the date to ISO standard.\n",
    "        city_date = datetime.utcfromtimestamp(city_weather[\"dt\"]).strftime('%Y-%m-%d %H:%M:%S')\n",
    "        # Append the city information into city_data list.\n",
    "        city_data.append({\"City\": city.title(),\n",
    "                          \"Lat\": city_lat,\n",
    "                          \"Lng\": city_lng,\n",
    "                          \"Max Temp\": city_max_temp,\n",
    "                          \"Humidity\": city_humidity,\n",
    "                          \"Cloudiness\": city_clouds,\n",
    "                          \"Wind Speed\": city_wind,\n",
    "                          \"Country\": city_country,\n",
    "                          \"Date\": city_date})\n",
    "\n",
    "    # If an error is experienced, skip the city.\n",
    "    except:\n",
    "        print(\"City not found. Skipping...\")\n",
    "        pass\n",
    "\n",
    "# Indicate that Data Loading is complete.\n",
    "print(\"-----------------------------\")\n",
    "print(\"Data Retrieval Complete      \")\n",
    "print(\"-----------------------------\")"
   ]
  },
  {
   "cell_type": "code",
   "execution_count": null,
   "id": "164ccaa1",
   "metadata": {},
   "outputs": [],
   "source": [
    "# Convert the array of dictionaries to a Pandas DataFrame.\n",
    "city_data_df = pd.DataFrame(city_data)\n",
    "city_data_df.head(10)"
   ]
  },
  {
   "cell_type": "code",
   "execution_count": null,
   "id": "93844cfa",
   "metadata": {},
   "outputs": [],
   "source": []
  }
 ],
 "metadata": {
  "kernelspec": {
   "display_name": "PythonData",
   "language": "python",
   "name": "pythondata"
  },
  "language_info": {
   "codemirror_mode": {
    "name": "ipython",
    "version": 3
   },
   "file_extension": ".py",
   "mimetype": "text/x-python",
   "name": "python",
   "nbconvert_exporter": "python",
   "pygments_lexer": "ipython3",
   "version": "3.7.11"
  }
 },
 "nbformat": 4,
 "nbformat_minor": 5
}
